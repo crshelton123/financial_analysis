{
 "cells": [
  {
   "cell_type": "code",
   "execution_count": 1,
   "id": "5ab6fad6-fe26-4ff9-8aee-138e5d678d49",
   "metadata": {},
   "outputs": [],
   "source": [
    "# combine variable and a string\n",
    "# for loops\n",
    "#print\n",
    "var1 = \"HELLO\""
   ]
  },
  {
   "cell_type": "code",
   "execution_count": 2,
   "id": "e7c5eaf9-86bb-491b-afeb-3e1c6135a009",
   "metadata": {},
   "outputs": [
    {
     "name": "stdout",
     "output_type": "stream",
     "text": [
      "{var1} world\n"
     ]
    }
   ],
   "source": [
    "print(\"{var1} world\")"
   ]
  },
  {
   "cell_type": "code",
   "execution_count": 3,
   "id": "32cd8a5b-0414-423b-a906-1534668d2292",
   "metadata": {},
   "outputs": [
    {
     "name": "stdout",
     "output_type": "stream",
     "text": [
      "HELLO world\n"
     ]
    }
   ],
   "source": [
    "print(var1, \"world\")"
   ]
  },
  {
   "cell_type": "code",
   "execution_count": 4,
   "id": "134e7c44-973e-4b57-980d-c2b358b65d2c",
   "metadata": {},
   "outputs": [],
   "source": [
    "var2 = \"charles\""
   ]
  },
  {
   "cell_type": "code",
   "execution_count": 8,
   "id": "9ccaa1e1-1d43-426c-af59-45537b8769a7",
   "metadata": {},
   "outputs": [
    {
     "data": {
      "text/plain": [
       "\"Tutor's name is charles\""
      ]
     },
     "execution_count": 8,
     "metadata": {},
     "output_type": "execute_result"
    }
   ],
   "source": [
    "string1 = \"Tutor's name is \"\n",
    "# string concatentation (combining 2 strings\n",
    "# string1 + var2 # combines two strings"
   ]
  },
  {
   "cell_type": "code",
   "execution_count": 13,
   "id": "f943466a-fd12-409e-b5b7-f8655eea7ec9",
   "metadata": {},
   "outputs": [
    {
     "data": {
      "text/plain": [
       "\" Tutor's names is charles i am poor i have only 5000\""
      ]
     },
     "execution_count": 13,
     "metadata": {},
     "output_type": "execute_result"
    }
   ],
   "source": [
    "# {} are placeholder?\n",
    "# how do you actually this?\n",
    "# in order\n",
    "# string formatting\n",
    "var3 = 5000\n",
    "# string2 = \" Tutor's names is {v1} i am poor i have only {v2}\".format(v2=var2, v1=var3)\n",
    "string2 = \" Tutor's names is {} i am poor i have only {}\".format(var2, var3)\n",
    "string2"
   ]
  },
  {
   "cell_type": "code",
   "execution_count": 15,
   "id": "99fa3b5f-94a9-4f38-b301-5eb6d807ea32",
   "metadata": {},
   "outputs": [
    {
     "data": {
      "text/plain": [
       "\"Tutor's names is charles i am poor i have only 5000\""
      ]
     },
     "execution_count": 15,
     "metadata": {},
     "output_type": "execute_result"
    }
   ],
   "source": [
    "# Python 3.6 >\n",
    "# f-string\n",
    "string4 = f\"Tutor's names is {var2} i am poor i have only {var3}\"\n",
    "string4"
   ]
  },
  {
   "cell_type": "code",
   "execution_count": 16,
   "id": "e8ba30d3-ceaf-42a2-8840-52acafa6aba3",
   "metadata": {},
   "outputs": [],
   "source": [
    "# datetime stuff\n",
    "# what fortmat is it in? string or datetime format\n",
    "date = \"2023-03-19\"\n",
    "# date or time "
   ]
  },
  {
   "cell_type": "code",
   "execution_count": null,
   "id": "c9fa2350-f582-4fa8-87e1-589c0acf55df",
   "metadata": {},
   "outputs": [],
   "source": []
  }
 ],
 "metadata": {
  "kernelspec": {
   "display_name": "dev",
   "language": "python",
   "name": "dev"
  },
  "language_info": {
   "codemirror_mode": {
    "name": "ipython",
    "version": 3
   },
   "file_extension": ".py",
   "mimetype": "text/x-python",
   "name": "python",
   "nbconvert_exporter": "python",
   "pygments_lexer": "ipython3",
   "version": "3.7.13"
  }
 },
 "nbformat": 4,
 "nbformat_minor": 5
}
